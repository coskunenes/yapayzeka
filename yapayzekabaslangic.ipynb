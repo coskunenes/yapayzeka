{
  "nbformat": 4,
  "nbformat_minor": 0,
  "metadata": {
    "colab": {
      "provenance": []
    },
    "kernelspec": {
      "name": "python3",
      "display_name": "Python 3"
    },
    "language_info": {
      "name": "python"
    }
  },
  "cells": [
    {
      "cell_type": "markdown",
      "source": [
        "03.10.2024 - İGÜ MYO YAPAY ZEKA DERSİ İLK ÇIKTISI."
      ],
      "metadata": {
        "id": "R5kdtVvQf9tj"
      }
    },
    {
      "cell_type": "code",
      "execution_count": 1,
      "metadata": {
        "colab": {
          "base_uri": "https://localhost:8080/"
        },
        "id": "FFIXK5JdeQaG",
        "outputId": "5d918c1f-056d-44fe-fe68-52f20be8ed40"
      },
      "outputs": [
        {
          "output_type": "stream",
          "name": "stdout",
          "text": [
            "Merhaba İGÜ YZ - MYO BİLGİSAYAR TEKNOLOJİSİ PROG.\n"
          ]
        }
      ],
      "source": [
        "print(\"Merhaba İGÜ YZ - MYO BİLGİSAYAR TEKNOLOJİSİ PROG.\") #İGÜ MYO"
      ]
    },
    {
      "cell_type": "code",
      "source": [
        "import sys # import python programlama dilinde yazılıma kütüphane eklemeye yarayan bir kod blogudur.\n",
        "print(sys.version)"
      ],
      "metadata": {
        "colab": {
          "base_uri": "https://localhost:8080/"
        },
        "id": "PXMqDTsYqTyV",
        "outputId": "49620b5a-8eba-4226-9375-3c0b094bfef6"
      },
      "execution_count": 2,
      "outputs": [
        {
          "output_type": "stream",
          "name": "stdout",
          "text": [
            "3.10.12 (main, Sep 11 2024, 15:47:36) [GCC 11.4.0]\n"
          ]
        }
      ]
    }
  ]
}